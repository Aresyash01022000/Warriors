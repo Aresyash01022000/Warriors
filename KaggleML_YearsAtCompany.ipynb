{
 "cells": [
  {
   "cell_type": "code",
   "execution_count": 1,
   "metadata": {},
   "outputs": [],
   "source": [
    "import numpy as np\n",
    "import pandas as pd\n",
    "import matplotlib.pyplot as plt"
   ]
  },
  {
   "cell_type": "code",
   "execution_count": 2,
   "metadata": {},
   "outputs": [],
   "source": [
    "dataset = pd.read_csv('kt2.csv')\n",
    "testset = pd.read_csv('kaggletest.csv')"
   ]
  },
  {
   "cell_type": "code",
   "execution_count": 3,
   "metadata": {},
   "outputs": [
    {
     "data": {
      "text/html": [
       "<div>\n",
       "<style scoped>\n",
       "    .dataframe tbody tr th:only-of-type {\n",
       "        vertical-align: middle;\n",
       "    }\n",
       "\n",
       "    .dataframe tbody tr th {\n",
       "        vertical-align: top;\n",
       "    }\n",
       "\n",
       "    .dataframe thead th {\n",
       "        text-align: right;\n",
       "    }\n",
       "</style>\n",
       "<table border=\"1\" class=\"dataframe\">\n",
       "  <thead>\n",
       "    <tr style=\"text-align: right;\">\n",
       "      <th></th>\n",
       "      <th>ID</th>\n",
       "      <th>Age</th>\n",
       "      <th>BusinessTravel</th>\n",
       "      <th>DailyRate</th>\n",
       "      <th>Department</th>\n",
       "      <th>DistanceFromHome</th>\n",
       "      <th>Gender</th>\n",
       "      <th>HourlyRate</th>\n",
       "      <th>JobInvolvement</th>\n",
       "      <th>JobLevel</th>\n",
       "      <th>...</th>\n",
       "      <th>EmployeeCount</th>\n",
       "      <th>EmployeeNumber</th>\n",
       "      <th>EnvironmentSatisfaction</th>\n",
       "      <th>WorkLifeBalance</th>\n",
       "      <th>YearsInCurrentRole</th>\n",
       "      <th>YearsSinceLastPromotion</th>\n",
       "      <th>YearsWithCurrManager</th>\n",
       "      <th>FormalWarnings</th>\n",
       "      <th>ProjectsContributed</th>\n",
       "      <th>YearsAtCompany</th>\n",
       "    </tr>\n",
       "  </thead>\n",
       "  <tbody>\n",
       "    <tr>\n",
       "      <th>0</th>\n",
       "      <td>1</td>\n",
       "      <td>44.0</td>\n",
       "      <td>Travel_Rarely</td>\n",
       "      <td>1376.0</td>\n",
       "      <td>Human Resources</td>\n",
       "      <td>1</td>\n",
       "      <td>Male</td>\n",
       "      <td>91.0</td>\n",
       "      <td>2.0</td>\n",
       "      <td>3</td>\n",
       "      <td>...</td>\n",
       "      <td>1</td>\n",
       "      <td>1098</td>\n",
       "      <td>2.0</td>\n",
       "      <td>3.0</td>\n",
       "      <td>6</td>\n",
       "      <td>3.0</td>\n",
       "      <td>6</td>\n",
       "      <td>0</td>\n",
       "      <td>15.0</td>\n",
       "      <td>20</td>\n",
       "    </tr>\n",
       "    <tr>\n",
       "      <th>1</th>\n",
       "      <td>2</td>\n",
       "      <td>25.0</td>\n",
       "      <td>Non-Travel</td>\n",
       "      <td>675.0</td>\n",
       "      <td>Research &amp; Development</td>\n",
       "      <td>5</td>\n",
       "      <td>Male</td>\n",
       "      <td>85.0</td>\n",
       "      <td>4.0</td>\n",
       "      <td>2</td>\n",
       "      <td>...</td>\n",
       "      <td>1</td>\n",
       "      <td>369</td>\n",
       "      <td>2.0</td>\n",
       "      <td>3.0</td>\n",
       "      <td>3</td>\n",
       "      <td>1.0</td>\n",
       "      <td>5</td>\n",
       "      <td>0</td>\n",
       "      <td>7.0</td>\n",
       "      <td>6</td>\n",
       "    </tr>\n",
       "    <tr>\n",
       "      <th>2</th>\n",
       "      <td>3</td>\n",
       "      <td>57.0</td>\n",
       "      <td>Travel_Rarely</td>\n",
       "      <td>210.0</td>\n",
       "      <td>Sales</td>\n",
       "      <td>29</td>\n",
       "      <td>Male</td>\n",
       "      <td>56.0</td>\n",
       "      <td>2.0</td>\n",
       "      <td>4</td>\n",
       "      <td>...</td>\n",
       "      <td>1</td>\n",
       "      <td>568</td>\n",
       "      <td>1.0</td>\n",
       "      <td>2.0</td>\n",
       "      <td>0</td>\n",
       "      <td>0.0</td>\n",
       "      <td>0</td>\n",
       "      <td>0</td>\n",
       "      <td>3.0</td>\n",
       "      <td>1</td>\n",
       "    </tr>\n",
       "    <tr>\n",
       "      <th>3</th>\n",
       "      <td>4</td>\n",
       "      <td>47.0</td>\n",
       "      <td>Travel_Rarely</td>\n",
       "      <td>1180.0</td>\n",
       "      <td>Research &amp; Development</td>\n",
       "      <td>25</td>\n",
       "      <td>Male</td>\n",
       "      <td>84.0</td>\n",
       "      <td>3.0</td>\n",
       "      <td>3</td>\n",
       "      <td>...</td>\n",
       "      <td>1</td>\n",
       "      <td>1993</td>\n",
       "      <td>1.0</td>\n",
       "      <td>3.0</td>\n",
       "      <td>14</td>\n",
       "      <td>12.0</td>\n",
       "      <td>11</td>\n",
       "      <td>0</td>\n",
       "      <td>14.0</td>\n",
       "      <td>17</td>\n",
       "    </tr>\n",
       "    <tr>\n",
       "      <th>4</th>\n",
       "      <td>5</td>\n",
       "      <td>22.0</td>\n",
       "      <td>Travel_Rarely</td>\n",
       "      <td>391.0</td>\n",
       "      <td>Research &amp; Development</td>\n",
       "      <td>7</td>\n",
       "      <td>Male</td>\n",
       "      <td>75.0</td>\n",
       "      <td>3.0</td>\n",
       "      <td>1</td>\n",
       "      <td>...</td>\n",
       "      <td>1</td>\n",
       "      <td>1878</td>\n",
       "      <td>4.0</td>\n",
       "      <td>3.0</td>\n",
       "      <td>0</td>\n",
       "      <td>0.0</td>\n",
       "      <td>0</td>\n",
       "      <td>0</td>\n",
       "      <td>5.0</td>\n",
       "      <td>1</td>\n",
       "    </tr>\n",
       "  </tbody>\n",
       "</table>\n",
       "<p>5 rows × 43 columns</p>\n",
       "</div>"
      ],
      "text/plain": [
       "   ID   Age BusinessTravel  DailyRate              Department  \\\n",
       "0   1  44.0  Travel_Rarely     1376.0         Human Resources   \n",
       "1   2  25.0     Non-Travel      675.0  Research & Development   \n",
       "2   3  57.0  Travel_Rarely      210.0                   Sales   \n",
       "3   4  47.0  Travel_Rarely     1180.0  Research & Development   \n",
       "4   5  22.0  Travel_Rarely      391.0  Research & Development   \n",
       "\n",
       "   DistanceFromHome Gender  HourlyRate  JobInvolvement  JobLevel  ...  \\\n",
       "0                 1   Male        91.0             2.0         3  ...   \n",
       "1                 5   Male        85.0             4.0         2  ...   \n",
       "2                29   Male        56.0             2.0         4  ...   \n",
       "3                25   Male        84.0             3.0         3  ...   \n",
       "4                 7   Male        75.0             3.0         1  ...   \n",
       "\n",
       "  EmployeeCount  EmployeeNumber EnvironmentSatisfaction  WorkLifeBalance  \\\n",
       "0             1            1098                     2.0              3.0   \n",
       "1             1             369                     2.0              3.0   \n",
       "2             1             568                     1.0              2.0   \n",
       "3             1            1993                     1.0              3.0   \n",
       "4             1            1878                     4.0              3.0   \n",
       "\n",
       "   YearsInCurrentRole  YearsSinceLastPromotion YearsWithCurrManager  \\\n",
       "0                   6                      3.0                    6   \n",
       "1                   3                      1.0                    5   \n",
       "2                   0                      0.0                    0   \n",
       "3                  14                     12.0                   11   \n",
       "4                   0                      0.0                    0   \n",
       "\n",
       "  FormalWarnings  ProjectsContributed  YearsAtCompany  \n",
       "0              0                 15.0              20  \n",
       "1              0                  7.0               6  \n",
       "2              0                  3.0               1  \n",
       "3              0                 14.0              17  \n",
       "4              0                  5.0               1  \n",
       "\n",
       "[5 rows x 43 columns]"
      ]
     },
     "execution_count": 3,
     "metadata": {},
     "output_type": "execute_result"
    }
   ],
   "source": [
    "dataset.head()"
   ]
  },
  {
   "cell_type": "code",
   "execution_count": 4,
   "metadata": {},
   "outputs": [
    {
     "data": {
      "text/plain": [
       "ID                          0\n",
       "Age                         1\n",
       "BusinessTravel              0\n",
       "DailyRate                   1\n",
       "Department                  0\n",
       "DistanceFromHome            0\n",
       "Gender                      0\n",
       "HourlyRate                  2\n",
       "JobInvolvement              1\n",
       "JobLevel                    0\n",
       "JobRole                     0\n",
       "JobSatisfaction             1\n",
       "MaritalStatus               0\n",
       "MonthlyIncome               0\n",
       "MonthlyRate                 1\n",
       "NumCompaniesWorked          1\n",
       "Over18                      0\n",
       "OverTime                    0\n",
       "PercentSalaryHike           1\n",
       "PerformanceRating           0\n",
       "CommunicationSkill          0\n",
       "Behaviour                   0\n",
       "Experience                  0\n",
       "LvlGrownInOrg               1\n",
       "ContributionIndex           0\n",
       "TechnicalExpertise          0\n",
       "RelationshipSatisfaction    1\n",
       "StandardHours               0\n",
       "StockOptionLevel            0\n",
       "TotalWorkingYears           1\n",
       "TrainingTimesLastYear       0\n",
       "Education                   1\n",
       "EducationField              0\n",
       "EmployeeCount               0\n",
       "EmployeeNumber              0\n",
       "EnvironmentSatisfaction     1\n",
       "WorkLifeBalance             1\n",
       "YearsInCurrentRole          0\n",
       "YearsSinceLastPromotion     1\n",
       "YearsWithCurrManager        0\n",
       "FormalWarnings              0\n",
       "ProjectsContributed         1\n",
       "YearsAtCompany              0\n",
       "dtype: int64"
      ]
     },
     "execution_count": 4,
     "metadata": {},
     "output_type": "execute_result"
    }
   ],
   "source": [
    "dataset.isnull().sum()"
   ]
  },
  {
   "cell_type": "code",
   "execution_count": 5,
   "metadata": {},
   "outputs": [
    {
     "name": "stderr",
     "output_type": "stream",
     "text": [
      "<ipython-input-5-5c89e6c47b49>:3: DeprecationWarning: Converting `np.inexact` or `np.floating` to a dtype is deprecated. The current result is `float64` which is not strictly correct.\n",
      "  if dataset[column].dtype == np.number:\n",
      "<ipython-input-5-5c89e6c47b49>:7: DeprecationWarning: Converting `np.inexact` or `np.floating` to a dtype is deprecated. The current result is `float64` which is not strictly correct.\n",
      "  if testset[column].dtype == np.number:\n"
     ]
    }
   ],
   "source": [
    "from sklearn.preprocessing import LabelEncoder\n",
    "for column in dataset.columns:\n",
    "        if dataset[column].dtype == np.number:\n",
    "            continue\n",
    "        dataset[column] = LabelEncoder().fit_transform(dataset[column])\n",
    "for column in testset.columns:\n",
    "        if testset[column].dtype == np.number:\n",
    "            continue\n",
    "        testset[column] = LabelEncoder().fit_transform(testset[column])"
   ]
  },
  {
   "cell_type": "code",
   "execution_count": 6,
   "metadata": {},
   "outputs": [],
   "source": [
    "ds = dataset[['ID','Age','YearsAtCompany','CommunicationSkill','Department','DistanceFromHome','Education','EducationField','EnvironmentSatisfaction','Gender','HourlyRate','JobInvolvement','JobLevel','JobRole','JobSatisfaction','MaritalStatus','MonthlyIncome','MonthlyRate','NumCompaniesWorked','OverTime','Over18','PercentSalaryHike','PerformanceRating','RelationshipSatisfaction','StockOptionLevel','TotalWorkingYears','TrainingTimesLastYear','WorkLifeBalance','YearsInCurrentRole','YearsSinceLastPromotion','YearsWithCurrManager','StandardHours']].copy()\n",
    "ts = testset[['ID','Age','CommunicationSkill','Department','DistanceFromHome','Education','EducationField','EnvironmentSatisfaction','Gender','HourlyRate','JobInvolvement','JobLevel','JobRole','JobSatisfaction','MaritalStatus','MonthlyIncome','MonthlyRate','NumCompaniesWorked','OverTime','Over18','PercentSalaryHike','PerformanceRating','RelationshipSatisfaction','StockOptionLevel','TotalWorkingYears','TrainingTimesLastYear','WorkLifeBalance','YearsInCurrentRole','YearsSinceLastPromotion','YearsWithCurrManager','StandardHours']].copy()"
   ]
  },
  {
   "cell_type": "code",
   "execution_count": 7,
   "metadata": {},
   "outputs": [],
   "source": [
    "ds = ds.apply(np.int64)\n",
    "ts = ts.apply(np.int64)\n",
    "x = ds.drop('YearsAtCompany', axis=1)\n",
    "y = ds['YearsAtCompany']"
   ]
  },
  {
   "cell_type": "code",
   "execution_count": 8,
   "metadata": {},
   "outputs": [
    {
     "name": "stdout",
     "output_type": "stream",
     "text": [
      "        ID  Age  CommunicationSkill  Department  DistanceFromHome  Education  \\\n",
      "0        0   44                   3           0                 0          2   \n",
      "1        1   25                   4           1                 4          2   \n",
      "2        2   57                   1           2                28          3   \n",
      "3        3   47                   0           1                24          3   \n",
      "4        4   22                   2           1                 6          1   \n",
      "...    ...  ...                 ...         ...               ...        ...   \n",
      "1225  1225   29                   4           1                 6          3   \n",
      "1226  1226   41                   1           1                27          4   \n",
      "1227  1227   36                   2           2                12          5   \n",
      "1228  1228   23                   1           1                 3          3   \n",
      "1229  1229   31                   0           2                25          4   \n",
      "\n",
      "      EducationField  EnvironmentSatisfaction  Gender  HourlyRate  ...  \\\n",
      "0                  3                        2       1          91  ...   \n",
      "1                  1                        2       1          85  ...   \n",
      "2                  2                        1       1          56  ...   \n",
      "3                  3                        1       1          84  ...   \n",
      "4                  1                        4       1          75  ...   \n",
      "...              ...                      ...     ...         ...  ...   \n",
      "1225               5                        2       0          39  ...   \n",
      "1226               1                        1       0          60  ...   \n",
      "1227               2                        2       1          96  ...   \n",
      "1228               3                        1       1          58  ...   \n",
      "1229               2                        1       1          63  ...   \n",
      "\n",
      "      PerformanceRating  RelationshipSatisfaction  StockOptionLevel  \\\n",
      "0                     0                         4                 1   \n",
      "1                     0                         4                 2   \n",
      "2                     0                         3                 1   \n",
      "3                     1                         2                 0   \n",
      "4                     1                         1                 0   \n",
      "...                 ...                       ...               ...   \n",
      "1225                  0                         1                 2   \n",
      "1226                  1                         3                 1   \n",
      "1227                  0                         2                 3   \n",
      "1228                  0                         1                 1   \n",
      "1229                  0                         3                 0   \n",
      "\n",
      "      TotalWorkingYears  TrainingTimesLastYear  WorkLifeBalance  \\\n",
      "0                    24                      1                3   \n",
      "1                     6                      2                3   \n",
      "2                    32                      3                2   \n",
      "3                    25                      3                3   \n",
      "4                     1                      2                3   \n",
      "...                 ...                    ...              ...   \n",
      "1225                 10                      2                3   \n",
      "1226                 21                      3                3   \n",
      "1227                 16                      3                3   \n",
      "1228                  5                      3                4   \n",
      "1229                 10                      4                3   \n",
      "\n",
      "      YearsInCurrentRole  YearsSinceLastPromotion  YearsWithCurrManager  \\\n",
      "0                      6                        3                     6   \n",
      "1                      3                        1                     5   \n",
      "2                      0                        0                     0   \n",
      "3                     14                       12                    11   \n",
      "4                      0                        0                     0   \n",
      "...                  ...                      ...                   ...   \n",
      "1225                   7                        7                     7   \n",
      "1226                   7                        0                    10   \n",
      "1227                   2                        2                     2   \n",
      "1228                   2                        0                     2   \n",
      "1229                   7                        0                     8   \n",
      "\n",
      "      StandardHours  \n",
      "0                 0  \n",
      "1                 0  \n",
      "2                 0  \n",
      "3                 0  \n",
      "4                 0  \n",
      "...             ...  \n",
      "1225              0  \n",
      "1226              0  \n",
      "1227              0  \n",
      "1228              0  \n",
      "1229              0  \n",
      "\n",
      "[1230 rows x 31 columns]\n"
     ]
    }
   ],
   "source": [
    "print(x)"
   ]
  },
  {
   "cell_type": "code",
   "execution_count": 9,
   "metadata": {},
   "outputs": [
    {
     "name": "stdout",
     "output_type": "stream",
     "text": [
      "0       20\n",
      "1        6\n",
      "2        1\n",
      "3       17\n",
      "4        1\n",
      "        ..\n",
      "1225     7\n",
      "1226    20\n",
      "1227     2\n",
      "1228     3\n",
      "1229    10\n",
      "Name: YearsAtCompany, Length: 1230, dtype: int64\n"
     ]
    }
   ],
   "source": [
    "print(y)"
   ]
  },
  {
   "cell_type": "code",
   "execution_count": 10,
   "metadata": {},
   "outputs": [],
   "source": [
    "from sklearn.model_selection import train_test_split\n",
    "x_train, x_test, y_train, y_test = train_test_split(x, y, test_size = 0.2, random_state = 0)\n",
    "#generally we prefer 75:25 ration for train set and test set but since the data here is less i used 80:20 ratio"
   ]
  },
  {
   "cell_type": "code",
   "execution_count": 11,
   "metadata": {},
   "outputs": [
    {
     "name": "stdout",
     "output_type": "stream",
     "text": [
      "        ID  Age  CommunicationSkill  Department  DistanceFromHome  Education  \\\n",
      "268    268   37                   3           2                 0          4   \n",
      "1074  1074   29                   0           1                 7          4   \n",
      "406    406   27                   0           1                 1          4   \n",
      "554    554   43                   2           1                 5          3   \n",
      "270    270   29                   2           1                 0          3   \n",
      "...    ...  ...                 ...         ...               ...        ...   \n",
      "763    763   33                   0           1                24          3   \n",
      "835    835   28                   1           1                 1          4   \n",
      "1216  1216   38                   4           2                 0          4   \n",
      "559    559   46                   4           2                 1          3   \n",
      "684    684   25                   3           2                 7          3   \n",
      "\n",
      "      EducationField  EnvironmentSatisfaction  Gender  HourlyRate  ...  \\\n",
      "268                3                        3       1          31  ...   \n",
      "1074               4                        2       1          77  ...   \n",
      "406                1                        1       0          47  ...   \n",
      "554                3                        1       0          81  ...   \n",
      "270                1                        4       0          87  ...   \n",
      "...              ...                      ...     ...         ...  ...   \n",
      "763                3                        1       1          55  ...   \n",
      "835                3                        3       1          46  ...   \n",
      "1216               1                        4       1          86  ...   \n",
      "559                1                        3       1          74  ...   \n",
      "684                1                        4       1          57  ...   \n",
      "\n",
      "      PerformanceRating  RelationshipSatisfaction  StockOptionLevel  \\\n",
      "268                   0                         3                 2   \n",
      "1074                  0                         4                 0   \n",
      "406                   0                         2                 1   \n",
      "554                   0                         4                 0   \n",
      "270                   0                         2                 2   \n",
      "...                 ...                       ...               ...   \n",
      "763                   1                         2                 0   \n",
      "835                   0                         4                 0   \n",
      "1216                  0                         1                 2   \n",
      "559                   0                         2                 1   \n",
      "684                   1                         3                 1   \n",
      "\n",
      "      TotalWorkingYears  TrainingTimesLastYear  WorkLifeBalance  \\\n",
      "268                   6                      2                2   \n",
      "1074                  7                      4                2   \n",
      "406                   4                      2                3   \n",
      "554                  21                      2                3   \n",
      "270                   9                      2                2   \n",
      "...                 ...                    ...              ...   \n",
      "763                   5                      0                3   \n",
      "835                   5                      3                2   \n",
      "1216                 16                      3                3   \n",
      "559                  13                      5                2   \n",
      "684                   4                      4                3   \n",
      "\n",
      "      YearsInCurrentRole  YearsSinceLastPromotion  YearsWithCurrManager  \\\n",
      "268                    3                        1                     3   \n",
      "1074                   7                        0                     7   \n",
      "406                    2                        2                     2   \n",
      "554                   12                        6                    14   \n",
      "270                    7                        1                     7   \n",
      "...                  ...                      ...                   ...   \n",
      "763                    2                        2                     2   \n",
      "835                    2                        2                     1   \n",
      "1216                  13                        5                     8   \n",
      "559                    6                        0                     3   \n",
      "684                    2                        1                     2   \n",
      "\n",
      "      StandardHours  \n",
      "268               0  \n",
      "1074              0  \n",
      "406               0  \n",
      "554               0  \n",
      "270               0  \n",
      "...             ...  \n",
      "763               0  \n",
      "835               0  \n",
      "1216              0  \n",
      "559               0  \n",
      "684               0  \n",
      "\n",
      "[984 rows x 31 columns]\n"
     ]
    }
   ],
   "source": [
    "print(x_train)"
   ]
  },
  {
   "cell_type": "code",
   "execution_count": 12,
   "metadata": {},
   "outputs": [
    {
     "name": "stdout",
     "output_type": "stream",
     "text": [
      "268      6\n",
      "1074     7\n",
      "406      3\n",
      "554     16\n",
      "270      7\n",
      "        ..\n",
      "763      2\n",
      "835      2\n",
      "1216    15\n",
      "559     10\n",
      "684      3\n",
      "Name: YearsAtCompany, Length: 984, dtype: int64\n"
     ]
    }
   ],
   "source": [
    "print(y_train)"
   ]
  },
  {
   "cell_type": "code",
   "execution_count": 13,
   "metadata": {},
   "outputs": [
    {
     "name": "stdout",
     "output_type": "stream",
     "text": [
      "        ID  Age  CommunicationSkill  Department  DistanceFromHome  Education  \\\n",
      "18      18   35                   4           1                15          3   \n",
      "342    342   27                   4           1                13          3   \n",
      "467    467   41                   1           1                 0          3   \n",
      "1205  1205   43                   4           1                 0          3   \n",
      "858    858   41                   0           1                 4          2   \n",
      "...    ...  ...                 ...         ...               ...        ...   \n",
      "649    649   33                   3           1                 0          5   \n",
      "716    716   40                   2           1                15          4   \n",
      "427    427   30                   2           1                 1          4   \n",
      "818    818   47                   3           1                13          4   \n",
      "899    899   23                   1           1                19          1   \n",
      "\n",
      "      EducationField  EnvironmentSatisfaction  Gender  HourlyRate  ...  \\\n",
      "18                 1                        4       0          91  ...   \n",
      "342                1                        1       1          42  ...   \n",
      "467                1                        4       1          76  ...   \n",
      "1205               1                        4       0          33  ...   \n",
      "858                1                        1       1          95  ...   \n",
      "...              ...                      ...     ...         ...  ...   \n",
      "649                3                        1       0          95  ...   \n",
      "716                3                        1       1          51  ...   \n",
      "427                5                        4       0          78  ...   \n",
      "818                5                        3       1          64  ...   \n",
      "899                1                        1       1          97  ...   \n",
      "\n",
      "      PerformanceRating  RelationshipSatisfaction  StockOptionLevel  \\\n",
      "18                    0                         4                 0   \n",
      "342                   0                         4                 2   \n",
      "467                   1                         1                 1   \n",
      "1205                  0                         2                 1   \n",
      "858                   0                         1                 1   \n",
      "...                 ...                       ...               ...   \n",
      "649                   0                         3                 1   \n",
      "716                   0                         4                 0   \n",
      "427                   0                         4                 0   \n",
      "818                   0                         3                 1   \n",
      "899                   0                         2                 0   \n",
      "\n",
      "      TotalWorkingYears  TrainingTimesLastYear  WorkLifeBalance  \\\n",
      "18                   11                      3                1   \n",
      "342                   9                      3                2   \n",
      "467                  12                      3                3   \n",
      "1205                 12                      2                2   \n",
      "858                   5                      2                1   \n",
      "...                 ...                    ...              ...   \n",
      "649                  10                      2                3   \n",
      "716                  10                      6                3   \n",
      "427                  10                      2                3   \n",
      "818                  16                      4                4   \n",
      "899                   5                      2                3   \n",
      "\n",
      "      YearsInCurrentRole  YearsSinceLastPromotion  YearsWithCurrManager  \\\n",
      "18                     8                        3                     3   \n",
      "342                    7                        6                     8   \n",
      "467                    3                        1                     0   \n",
      "1205                   2                        2                     2   \n",
      "858                    0                        0                     0   \n",
      "...                  ...                      ...                   ...   \n",
      "649                    1                        0                     5   \n",
      "716                    0                        0                     0   \n",
      "427                    7                        0                     7   \n",
      "818                    7                        1                     7   \n",
      "899                    3                        1                     2   \n",
      "\n",
      "      StandardHours  \n",
      "18                0  \n",
      "342               0  \n",
      "467               0  \n",
      "1205              0  \n",
      "858               0  \n",
      "...             ...  \n",
      "649               0  \n",
      "716               0  \n",
      "427               0  \n",
      "818               0  \n",
      "899               0  \n",
      "\n",
      "[246 rows x 31 columns]\n"
     ]
    }
   ],
   "source": [
    "print(x_test)"
   ]
  },
  {
   "cell_type": "code",
   "execution_count": 14,
   "metadata": {},
   "outputs": [
    {
     "name": "stdout",
     "output_type": "stream",
     "text": [
      "18      11\n",
      "342      9\n",
      "467      5\n",
      "1205     5\n",
      "858      1\n",
      "        ..\n",
      "649      6\n",
      "716      1\n",
      "427      9\n",
      "818      8\n",
      "899      4\n",
      "Name: YearsAtCompany, Length: 246, dtype: int64\n"
     ]
    }
   ],
   "source": [
    "print(y_test)"
   ]
  },
  {
   "cell_type": "code",
   "execution_count": 15,
   "metadata": {},
   "outputs": [],
   "source": [
    "from sklearn.preprocessing import StandardScaler\n",
    "sc = StandardScaler()\n",
    "x_train = sc.fit_transform(x_train)\n",
    "x_test = sc.transform(x_test)"
   ]
  },
  {
   "cell_type": "code",
   "execution_count": 16,
   "metadata": {},
   "outputs": [
    {
     "name": "stdout",
     "output_type": "stream",
     "text": [
      "[[-0.94917413  0.03189505  0.58819813 ...  0.03189505 -0.31355581\n",
      "   0.        ]\n",
      " [ 1.30650947  0.03189505 -1.53709058 ...  0.03189505  0.79729537\n",
      "   0.        ]\n",
      " [-0.56296528  0.03189505 -1.53709058 ...  0.03189505 -0.5912686\n",
      "   0.        ]\n",
      " ...\n",
      " [ 1.70391279  0.03189505  1.2966277  ...  0.03189505  1.07500817\n",
      "   0.        ]\n",
      " [-0.1347772   0.03189505  1.2966277  ...  0.03189505 -0.31355581\n",
      "   0.        ]\n",
      " [ 0.21504966  0.03189505  0.58819813 ...  0.03189505 -0.5912686\n",
      "   0.        ]]\n"
     ]
    }
   ],
   "source": [
    "print(x_train)"
   ]
  },
  {
   "cell_type": "code",
   "execution_count": 17,
   "metadata": {},
   "outputs": [
    {
     "name": "stdout",
     "output_type": "stream",
     "text": [
      "[[-1.64882786  0.03189505  1.2966277  ...  0.03189505 -0.31355581\n",
      "   0.        ]\n",
      " [-0.74207663  0.03189505  1.2966277  ...  0.03189505  1.07500817\n",
      "   0.        ]\n",
      " [-0.39224977  0.03189505 -0.82866101 ...  0.03189505 -1.14669419\n",
      "   0.        ]\n",
      " ...\n",
      " [-0.50419436  0.03189505 -0.12023144 ...  0.03189505  0.79729537\n",
      "   0.        ]\n",
      " [ 0.59006406  0.03189505  0.58819813 ...  0.03189505  0.79729537\n",
      "   0.        ]\n",
      " [ 0.81675187  0.03189505 -0.82866101 ...  0.03189505 -0.5912686\n",
      "   0.        ]]\n"
     ]
    }
   ],
   "source": [
    "print(x_test)"
   ]
  },
  {
   "cell_type": "code",
   "execution_count": 18,
   "metadata": {},
   "outputs": [
    {
     "data": {
      "text/plain": [
       "LinearRegression(copy_X=True, fit_intercept=True, n_jobs=None, normalize=False)"
      ]
     },
     "execution_count": 18,
     "metadata": {},
     "output_type": "execute_result"
    }
   ],
   "source": [
    "from sklearn.linear_model import LinearRegression\n",
    "lr = LinearRegression()\n",
    "lr.fit(x_train, y_train)"
   ]
  },
  {
   "cell_type": "code",
   "execution_count": 19,
   "metadata": {},
   "outputs": [],
   "source": [
    "y_pred = lr.predict(x_test)"
   ]
  },
  {
   "cell_type": "code",
   "execution_count": 20,
   "metadata": {},
   "outputs": [
    {
     "name": "stdout",
     "output_type": "stream",
     "text": [
      "[        -63         -79         -68        -104         -34         -72\n",
      "         -52        -136         -75         -35          -2         -65\n",
      "        -128         -77        -127         -44           6        -158\n",
      "         -80         -34        -101         -89           4         -53\n",
      "        -122         -15         -14         -57         -53         -59\n",
      "         -24         -20         -76         -25         -99         -38\n",
      "        -141         -95        -133        -104        -135        -104\n",
      "           7        -113        -165          -6          -4         -22\n",
      "         -27         -78         -98         -93        -104         -68\n",
      "         -70          -3        -127         -34         -93         -90\n",
      "         -92         -46           1        -162        -127         -58\n",
      "         -64         -65        -133         -79         -90           0\n",
      "         -99         -82         -65         -87         -40         -52\n",
      "         -26          10         -26        -115          -8         -99\n",
      "        -106        -153         -92         -56        -117        -110\n",
      "         -86 -2147483648          -4          -9         -93          -7\n",
      "         -72        -123         -10        -120        -107         -23\n",
      "        -108         -91         -45         -26        -104        -114\n",
      "         -11        -157         -10        -101        -111           9\n",
      "        -140          -6         -58           2         -55        -162\n",
      "         -45          -3         -29         -80         -52         -35\n",
      "        -144         -63         -51         -24        -102         -20\n",
      "           3         -89           0          17         -88         -10\n",
      "        -104         -47         -68         -91          -3         -43\n",
      "        -110        -103         -77         -26         -27         -53\n",
      "         -51         -71         -77          16         -48         -99\n",
      "         -75        -107          -8           5         -26        -112\n",
      "        -101         -78        -148         -76         -82        -144\n",
      "         -41         -16          17         -86        -150         -98\n",
      "         -82        -135        -116         -22           7        -109\n",
      "         -45         -21         -23          -9         -60         -72\n",
      "         -37         -51         -46         -58         -11         -69\n",
      "         -96         -30         -62         -18         -29        -105\n",
      "         -86         -66         -50          23        -134        -121\n",
      "         -88        -144         -47         -41          45           1\n",
      " -2147483648          18         -61         -68         -96         -64\n",
      "         -34          11         -66         -55         -33         -83\n",
      "         -25          -9         -65         -91        -124           5\n",
      "         -72         -71         -63          11         -65         -36\n",
      "           7         -32         -95         -84          11         -36]\n"
     ]
    }
   ],
   "source": [
    "y_pred2 = lr.predict(ts)\n",
    "print(y_pred2.astype(int))"
   ]
  },
  {
   "cell_type": "code",
   "execution_count": 21,
   "metadata": {
    "scrolled": true
   },
   "outputs": [],
   "source": [
    "sub = pd.read_csv('D:\\Hackethon\\ML Kaggle\\Warriors.csv')\n",
    "sub['YearsAtCompany'] = y_pred2.astype(int) \n",
    "sub.to_csv('D:\\Hackethon\\ML Kaggle\\Warriors.csv',index=False)\n"
   ]
  }
 ],
 "metadata": {
  "kernelspec": {
   "display_name": "Python 3",
   "language": "python",
   "name": "python3"
  },
  "language_info": {
   "codemirror_mode": {
    "name": "ipython",
    "version": 3
   },
   "file_extension": ".py",
   "mimetype": "text/x-python",
   "name": "python",
   "nbconvert_exporter": "python",
   "pygments_lexer": "ipython3",
   "version": "3.8.1"
  },
  "varInspector": {
   "cols": {
    "lenName": 16,
    "lenType": 16,
    "lenVar": 40
   },
   "kernels_config": {
    "python": {
     "delete_cmd_postfix": "",
     "delete_cmd_prefix": "del ",
     "library": "var_list.py",
     "varRefreshCmd": "print(var_dic_list())"
    },
    "r": {
     "delete_cmd_postfix": ") ",
     "delete_cmd_prefix": "rm(",
     "library": "var_list.r",
     "varRefreshCmd": "cat(var_dic_list()) "
    }
   },
   "types_to_exclude": [
    "module",
    "function",
    "builtin_function_or_method",
    "instance",
    "_Feature"
   ],
   "window_display": false
  }
 },
 "nbformat": 4,
 "nbformat_minor": 4
}
